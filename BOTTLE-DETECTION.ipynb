{
 "cells": [
  {
   "cell_type": "code",
   "execution_count": 1,
   "metadata": {},
   "outputs": [],
   "source": [
    "import os\n",
    "import cv2\n",
    "import matplotlib.pyplot as plt\n",
    "import seaborn as sns\n",
    "import pandas as pd\n",
    "import numpy as np"
   ]
  },
  {
   "cell_type": "code",
   "execution_count": 2,
   "metadata": {},
   "outputs": [
    {
     "name": "stdout",
     "output_type": "stream",
     "text": [
      "['P.Cherry', 'M.Beer', 'P.diet', 'P.Rsugar', 'MD.Orig', 'meta.json', 'P.Orig', 'MD.Diet', 'P.Zero', 'train.csv']\n"
     ]
    },
    {
     "data": {
      "text/plain": [
       "['P.Cherry',\n",
       " 'M.Beer',\n",
       " 'P.diet',\n",
       " 'P.Rsugar',\n",
       " 'MD.Orig',\n",
       " 'P.Orig',\n",
       " 'MD.Diet',\n",
       " 'P.Zero']"
      ]
     },
     "execution_count": 2,
     "metadata": {},
     "output_type": "execute_result"
    }
   ],
   "source": [
    "DATA_DIR = 'Soda Bottles'\n",
    "CATEGORIES = os.listdir(DATA_DIR)\n",
    "HEIGHT = 100\n",
    "WIDTH = 100\n",
    "CHANNEL = 1\n",
    "data = []\n",
    "print(CATEGORIES)\n",
    "CATEGORIES.remove('train.csv')\n",
    "CATEGORIES.remove('meta.json')\n",
    "type(CATEGORIES)\n",
    "CATEGORIES"
   ]
  },
  {
   "cell_type": "code",
   "execution_count": 3,
   "metadata": {},
   "outputs": [],
   "source": [
    "for category in CATEGORIES:\n",
    "    path = os.path.join(DATA_DIR,category)\n",
    "    class_num = CATEGORIES.index(category)\n",
    "    for img in os.listdir(path):\n",
    "        try:\n",
    "            img_arr = cv2.imread(os.path.join(path,img))\n",
    "            new_arr = cv2.resize(img_arr, (HEIGHT,WIDTH))\n",
    "            data.append([new_arr, class_num])\n",
    "        except Exception as E:\n",
    "            pass"
   ]
  },
  {
   "cell_type": "code",
   "execution_count": null,
   "metadata": {},
   "outputs": [],
   "source": []
  },
  {
   "cell_type": "code",
   "execution_count": 4,
   "metadata": {},
   "outputs": [
    {
     "data": {
      "text/plain": [
       "(6615, 2)"
      ]
     },
     "execution_count": 4,
     "metadata": {},
     "output_type": "execute_result"
    }
   ],
   "source": [
    "np.shape(data)"
   ]
  },
  {
   "cell_type": "code",
   "execution_count": null,
   "metadata": {},
   "outputs": [],
   "source": []
  },
  {
   "cell_type": "code",
   "execution_count": null,
   "metadata": {},
   "outputs": [],
   "source": []
  },
  {
   "cell_type": "code",
   "execution_count": null,
   "metadata": {},
   "outputs": [],
   "source": []
  },
  {
   "cell_type": "code",
   "execution_count": null,
   "metadata": {},
   "outputs": [],
   "source": []
  }
 ],
 "metadata": {
  "kernelspec": {
   "display_name": "Python 3",
   "language": "python",
   "name": "python3"
  },
  "language_info": {
   "codemirror_mode": {
    "name": "ipython",
    "version": 3
   },
   "file_extension": ".py",
   "mimetype": "text/x-python",
   "name": "python",
   "nbconvert_exporter": "python",
   "pygments_lexer": "ipython3",
   "version": "3.6.9"
  }
 },
 "nbformat": 4,
 "nbformat_minor": 4
}
